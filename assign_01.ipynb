{
  "nbformat": 4,
  "nbformat_minor": 0,
  "metadata": {
    "kernelspec": {
      "display_name": "Python 3",
      "language": "python",
      "name": "python3"
    },
    "language_info": {
      "codemirror_mode": {
        "name": "ipython",
        "version": 3
      },
      "file_extension": ".py",
      "mimetype": "text/x-python",
      "name": "python",
      "nbconvert_exporter": "python",
      "pygments_lexer": "ipython3",
      "version": "3.7.3"
    },
    "colab": {
      "name": "E021-01-0797-2016-assign-01.ipynb",
      "provenance": [],
      "collapsed_sections": [],
      "include_colab_link": true
    }
  },
  "cells": [
    {
      "cell_type": "markdown",
      "metadata": {
        "id": "view-in-github",
        "colab_type": "text"
      },
      "source": [
        "<a href=\"https://colab.research.google.com/github/R-icntay/Python-Assignments/blob/master/assign_01.ipynb\" target=\"_parent\"><img src=\"https://colab.research.google.com/assets/colab-badge.svg\" alt=\"Open In Colab\"/></a>"
      ]
    },
    {
      "cell_type": "markdown",
      "metadata": {
        "id": "ONXI4mrZXk6d",
        "colab_type": "text"
      },
      "source": [
        "Before you turn this problem in, make sure everything runs as expected. First, **restart the kernel** (in the menubar, select Kernel$\\rightarrow$Restart) and then **run all cells** (in the menubar, select Cell$\\rightarrow$Run All).\n",
        "\n",
        "Make sure you fill in any place that says `YOUR CODE HERE` or \"YOUR ANSWER HERE\", as well as your name and collaborators below:"
      ]
    },
    {
      "cell_type": "code",
      "metadata": {
        "id": "tQIfKBxOXk6g",
        "colab_type": "code",
        "colab": {}
      },
      "source": [
        "NAME = \"Eric Wanjau\"\n",
        "COLLABORATORS = \"\""
      ],
      "execution_count": 1,
      "outputs": []
    },
    {
      "cell_type": "markdown",
      "metadata": {
        "id": "AKguPagOXk6m",
        "colab_type": "text"
      },
      "source": [
        "---"
      ]
    },
    {
      "cell_type": "markdown",
      "metadata": {
        "id": "EmvEYuR3Xk6n",
        "colab_type": "text"
      },
      "source": [
        "## Basic Signals\n",
        "There are several basic discrete time signals.\n",
        "\n",
        "### Unit step\n",
        "\n",
        "Write a function that takes an integer $n$ and returns $u[n]$. Raise a `ValueError` if a non-integer is passed"
      ]
    },
    {
      "cell_type": "code",
      "metadata": {
        "deletable": false,
        "nbgrader": {
          "cell_type": "code",
          "checksum": "e47b6e8ec34091e3017d9fbfd0e7d5d0",
          "grade": false,
          "grade_id": "cell-b3b4200d1cbf68fe",
          "locked": false,
          "schema_version": 3,
          "solution": true,
          "task": false
        },
        "id": "2V_TcW85Xk6o",
        "colab_type": "code",
        "colab": {}
      },
      "source": [
        "def unit_step(n):\n",
        "    \"\"\"Unit step\n",
        "    \"\"\"\n",
        "    # YOUR CODE HERE\n",
        "    if isinstance(n, int):\n",
        "      if n >= 0:\n",
        "        unt_stp = 1\n",
        "      elif n < 0:\n",
        "        unt_stp = 0\n",
        "\n",
        "    else:\n",
        "     raise ValueError(\"A non-integer is passed\")\n",
        "\n",
        "    return unt_stp\n",
        "    raise NotImplementedError()\n",
        "\n",
        "\n",
        "  "
      ],
      "execution_count": 2,
      "outputs": []
    },
    {
      "cell_type": "code",
      "metadata": {
        "deletable": false,
        "editable": false,
        "nbgrader": {
          "cell_type": "code",
          "checksum": "24016ffb016f8cda0242067746a6271e",
          "grade": true,
          "grade_id": "cell-7f70573667e2dffb",
          "locked": true,
          "points": 2,
          "schema_version": 3,
          "solution": false,
          "task": false
        },
        "id": "2Ai9q76WXk6s",
        "colab_type": "code",
        "colab": {}
      },
      "source": [
        "assert unit_step(1) == 1\n",
        "assert unit_step(-2) == 0\n",
        "\n"
      ],
      "execution_count": 3,
      "outputs": []
    },
    {
      "cell_type": "code",
      "metadata": {
        "deletable": false,
        "editable": false,
        "nbgrader": {
          "cell_type": "code",
          "checksum": "8fc0d355dcc0c17d636597b05434d7d7",
          "grade": true,
          "grade_id": "cell-8e60a315a966219b",
          "locked": true,
          "points": 2,
          "schema_version": 3,
          "solution": false,
          "task": false
        },
        "id": "wFz5sbplXk6y",
        "colab_type": "code",
        "colab": {}
      },
      "source": [
        "\"\"\"Check that unit_step raises an error for invalid inputs\"\"\"\n",
        "try:\n",
        "    unit_step(0.5)\n",
        "except ValueError:\n",
        "    pass\n",
        "else:\n",
        "    raise AssertionError(\"did not raise\")"
      ],
      "execution_count": 4,
      "outputs": []
    },
    {
      "cell_type": "markdown",
      "metadata": {
        "id": "ai23d6I0Xk64",
        "colab_type": "text"
      },
      "source": [
        "### Unit Ramp\n",
        "\n",
        "Write a function that takes an integer $n$ and returns $r[n]$. Raise a `ValueError` if a non-integer is passed"
      ]
    },
    {
      "cell_type": "code",
      "metadata": {
        "deletable": false,
        "nbgrader": {
          "cell_type": "code",
          "checksum": "2836aeab516e99790d2e7965b6310c5b",
          "grade": false,
          "grade_id": "cell-34e569dfa7ab4844",
          "locked": false,
          "schema_version": 3,
          "solution": true,
          "task": false
        },
        "id": "jTxtOdfHXk66",
        "colab_type": "code",
        "colab": {}
      },
      "source": [
        "def unit_ramp(n):\n",
        "    \"\"\"Unit ramp\n",
        "    \"\"\"\n",
        "    # YOUR CODE HERE\n",
        "    if isinstance(n, int):\n",
        "      if n >= 0:\n",
        "        unt_rmp = n\n",
        "      elif n < 0:\n",
        "        unt_rmp = 0\n",
        "\n",
        "    else:\n",
        "     raise ValueError(\"A non-integer is passed\")\n",
        "\n",
        "    return unt_rmp\n",
        "    \n",
        "    raise NotImplementedError()"
      ],
      "execution_count": 5,
      "outputs": []
    },
    {
      "cell_type": "code",
      "metadata": {
        "deletable": false,
        "editable": false,
        "nbgrader": {
          "cell_type": "code",
          "checksum": "b5bddcd3a86c119d66114b4141ea7e9f",
          "grade": true,
          "grade_id": "cell-4c513cecc43036a7",
          "locked": true,
          "points": 0,
          "schema_version": 3,
          "solution": false,
          "task": false
        },
        "id": "euRp_dsWXk6_",
        "colab_type": "code",
        "colab": {}
      },
      "source": [
        "assert unit_ramp(2) == 2\n",
        "assert unit_ramp(-2) == 0\n"
      ],
      "execution_count": 6,
      "outputs": []
    },
    {
      "cell_type": "code",
      "metadata": {
        "deletable": false,
        "editable": false,
        "nbgrader": {
          "cell_type": "code",
          "checksum": "30e69c9d161df45c7fb0fb5d53184e70",
          "grade": true,
          "grade_id": "cell-fd4756bee11d2264",
          "locked": true,
          "points": 2,
          "schema_version": 3,
          "solution": false,
          "task": false
        },
        "id": "wTr8EWzoXk7F",
        "colab_type": "code",
        "colab": {}
      },
      "source": [
        "\"\"\"Check that unit_ramp raises an error for invalid inputs\"\"\"\n",
        "try:\n",
        "    unit_ramp(0.5)\n",
        "except ValueError:\n",
        "    pass\n",
        "else:\n",
        "    raise AssertionError(\"did not raise\")"
      ],
      "execution_count": 7,
      "outputs": []
    },
    {
      "cell_type": "markdown",
      "metadata": {
        "id": "l-8h_68BXk7L",
        "colab_type": "text"
      },
      "source": [
        "### Operations on signals\n",
        "\n",
        "Write code to generate the following functions\n",
        "\n",
        "* $x1[n] = u[-n + 1]$\n",
        "* $x2[n] = 2r[n] - r[n-3]$\n",
        "* $x3[n] = u[n+1] - u[n-5]$"
      ]
    },
    {
      "cell_type": "code",
      "metadata": {
        "deletable": false,
        "nbgrader": {
          "cell_type": "code",
          "checksum": "e33d5d574954b49d64c435e9606a0d9a",
          "grade": false,
          "grade_id": "cell-733dcb0d84343a15",
          "locked": false,
          "schema_version": 3,
          "solution": true,
          "task": false
        },
        "id": "rrD9Ldt5Xk7M",
        "colab_type": "code",
        "colab": {}
      },
      "source": [
        "def x1(n):\n",
        "    # YOUR CODE HERE\n",
        "    n = -n+1\n",
        "    return unit_step(n)\n",
        "    raise NotImplementedError()\n",
        "\n",
        "    \n",
        "def x2(n):\n",
        "    # YOUR CODE HERE\n",
        "    amp_scaling = 2 * unit_ramp(n)\n",
        "    delayed_ramp = unit_ramp(n-3)\n",
        "    result = amp_scaling - delayed_ramp\n",
        "    return result\n",
        "    raise NotImplementedError()\n",
        "    \n",
        "def x3(n):\n",
        "    # YOUR CODE HERE\n",
        "    left_shift = unit_step(n + 1)\n",
        "    right_shift = unit_step(n - 5)\n",
        "    result = left_shift - right_shift\n",
        "    return result\n",
        "    raise NotImplementedError()"
      ],
      "execution_count": 8,
      "outputs": []
    },
    {
      "cell_type": "code",
      "metadata": {
        "deletable": false,
        "editable": false,
        "nbgrader": {
          "cell_type": "code",
          "checksum": "fb6907e4e5b83db27c9f466b1251387b",
          "grade": true,
          "grade_id": "cell-027e6f3a28da9536",
          "locked": true,
          "points": 4,
          "schema_version": 3,
          "solution": false,
          "task": false
        },
        "id": "wvZ-jFxqXk7Q",
        "colab_type": "code",
        "colab": {}
      },
      "source": [
        "assert x1(2) == 0\n",
        "assert x2(2) == 4\n",
        "assert x3(2) == 1"
      ],
      "execution_count": 9,
      "outputs": []
    },
    {
      "cell_type": "markdown",
      "metadata": {
        "id": "84qf9kpxXk7W",
        "colab_type": "text"
      },
      "source": [
        "### Linear Time Invariant Systems\n",
        " A discrete time LTI system has an impulse response given by\n",
        "\\begin{equation}\n",
        "h[n]=\\left\\{ \\begin{array}{ll}\n",
        "1 & \\textrm{ $n= -1$}\\\\\n",
        "5 & \\textrm{$n= 0$}\\\\\n",
        "-2& \\textrm{$n=1$}\\\\\n",
        "3&\\textrm{$n=2$}\\\\\n",
        "1&\\textrm{$n=3$}\\\\\n",
        "0&\\textrm{otherwise}\n",
        "\\end{array} \\right.\n",
        "\\end{equation}\n",
        "\n",
        "Determine the response of the system to $x[n] = \\delta[n]-2\\delta[n-1]+5\\delta[n-3]$. Let $y[n]$ denote this response and write a function that returns $y[n]$\n",
        "\n"
      ]
    },
    {
      "cell_type": "code",
      "metadata": {
        "deletable": false,
        "nbgrader": {
          "cell_type": "code",
          "checksum": "e8dfb0167c1d8924df0fd5a93c3db895",
          "grade": false,
          "grade_id": "cell-9d51837020c15875",
          "locked": false,
          "schema_version": 3,
          "solution": true,
          "task": false
        },
        "id": "fsktkGONXk7X",
        "colab_type": "code",
        "colab": {}
      },
      "source": [
        "def y(n):\n",
        "    # YOUR CODE HERE\n",
        "    def h(n):\n",
        "\n",
        "        if n == -1 or n == 3:\n",
        "            sig = 1\n",
        "\n",
        "\n",
        "        elif n == 0:\n",
        "            sig = 5\n",
        "            \n",
        "        elif n == 1:\n",
        "            sig = -2\n",
        "\n",
        "        elif n == 2:\n",
        "            sig = 3\n",
        "            \n",
        "        else:\n",
        "            sig = 0\n",
        "           \n",
        "        return sig\n",
        "\n",
        "    return h(n) - 2*h(n-1) + 5*h(n-3)\n",
        "    \n",
        "    raise NotImplementedError()"
      ],
      "execution_count": 10,
      "outputs": []
    },
    {
      "cell_type": "code",
      "metadata": {
        "deletable": false,
        "editable": false,
        "nbgrader": {
          "cell_type": "code",
          "checksum": "833216b535f54324ebc0ff227c48fceb",
          "grade": true,
          "grade_id": "cell-d3e964e4294ede10",
          "locked": true,
          "points": 5,
          "schema_version": 3,
          "solution": false,
          "task": false
        },
        "id": "LKcLBzwQXk7d",
        "colab_type": "code",
        "colab": {}
      },
      "source": [
        "assert y(-1) == 1\n",
        "assert y(0) == 3"
      ],
      "execution_count": 11,
      "outputs": []
    },
    {
      "cell_type": "markdown",
      "metadata": {
        "id": "Kvt1RFckXk7k",
        "colab_type": "text"
      },
      "source": [
        "## Moving Average System\n",
        "Consider the linear time invariant (LTI) moving average (MA) filter whose output $y[n]$ in response to an input $x[n]$ is given by\n",
        "\\begin{equation}\n",
        "y[n]=\\frac{1}{M_1+M_2+1}\\sum_{k=-M_1}^{M_2}x[n-k].\n",
        "\\end{equation}\n",
        "\n",
        "Determine the impulse response of this system and write a function that returns $h[n]$ given $n, M1, M2$ "
      ]
    },
    {
      "cell_type": "code",
      "metadata": {
        "deletable": false,
        "nbgrader": {
          "cell_type": "code",
          "checksum": "e928c347d744d9e13999d483e462d8a1",
          "grade": false,
          "grade_id": "cell-7b1eb7b2ad0d5490",
          "locked": false,
          "schema_version": 3,
          "solution": true,
          "task": false
        },
        "id": "sHGqJB9-Xk7l",
        "colab_type": "code",
        "colab": {}
      },
      "source": [
        "  def h(n, M1, M2):\n",
        "    # YOUR CODE HERE\n",
        "    taps = (M2 - -M1)+1\n",
        "    \n",
        "    if -M1 <= n <= M2:\n",
        "        imp_response = 1 / (M1 + M2 + 1)\n",
        "        \n",
        "\n",
        "    else:\n",
        "        imp_response = 0\n",
        "\n",
        "    return imp_response * taps\n",
        "\n",
        "\n",
        "\n",
        "\n",
        "    raise NotImplementedError()"
      ],
      "execution_count": 12,
      "outputs": []
    },
    {
      "cell_type": "code",
      "metadata": {
        "deletable": false,
        "editable": false,
        "nbgrader": {
          "cell_type": "code",
          "checksum": "16da7c4c22c7e73d368001b1c24836d2",
          "grade": true,
          "grade_id": "cell-8ebd35b05950da53",
          "locked": true,
          "points": 5,
          "schema_version": 3,
          "solution": false,
          "task": false
        },
        "id": "Zn_Boz2XXk7r",
        "colab_type": "code",
        "colab": {}
      },
      "source": [
        "assert h(1, 1, 1) == 1"
      ],
      "execution_count": 13,
      "outputs": []
    },
    {
      "cell_type": "markdown",
      "metadata": {
        "id": "KPTHwrAmXk7w",
        "colab_type": "text"
      },
      "source": [
        "## Convolution\n",
        "\n",
        " Consider an LTI system with impulse response $h[n]=u[n]-u[n-N]$ where $N>0$. Find the output of the system in response to the input\n",
        "$x[n]=a^nu[n]$ with $0<a<1$.\n",
        "\n",
        "Write a function `y2` that produces this output."
      ]
    },
    {
      "cell_type": "code",
      "metadata": {
        "deletable": false,
        "nbgrader": {
          "cell_type": "code",
          "checksum": "6d86a5574c943f7df3bbe58ba2ce5290",
          "grade": false,
          "grade_id": "cell-00f28b2c8c2aed34",
          "locked": false,
          "schema_version": 3,
          "solution": true,
          "task": false
        },
        "id": "bXzggJWMXk7x",
        "colab_type": "code",
        "colab": {}
      },
      "source": [
        "def y2(n, a):\n",
        "    # YOUR CODE HERE\n",
        "    # setting an arbitrary value of N, say 5\n",
        "    N = 5\n",
        "\n",
        "    if 0 <= n <= (N - 1):\n",
        "        conv_sum = (1 - pow(a, (n+1))) / (1 - a)\n",
        "\n",
        "    elif n > (N - 1):\n",
        "        conv_sum = pow(a, (n - N + 1)) * (1 - pow(a, N)) / (1 - a)\n",
        "\n",
        "    elif n < 0:\n",
        "        conv_sum = 0\n",
        "\n",
        "    return conv_sum\n",
        "\n",
        "    raise NotImplementedError()\n"
      ],
      "execution_count": 14,
      "outputs": []
    },
    {
      "cell_type": "code",
      "metadata": {
        "deletable": false,
        "editable": false,
        "nbgrader": {
          "cell_type": "code",
          "checksum": "13a8915733355cef5ce80e5746ac0155",
          "grade": true,
          "grade_id": "cell-76d175ac2b9febff",
          "locked": true,
          "points": 5,
          "schema_version": 3,
          "solution": false,
          "task": false
        },
        "id": "r2e46m2SXk73",
        "colab_type": "code",
        "colab": {}
      },
      "source": [
        "assert y2(0, 0.5) == 1"
      ],
      "execution_count": 15,
      "outputs": []
    }
  ]
}